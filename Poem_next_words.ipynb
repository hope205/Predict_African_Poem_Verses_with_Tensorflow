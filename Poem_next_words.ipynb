{
  "nbformat": 4,
  "nbformat_minor": 0,
  "metadata": {
    "colab": {
      "provenance": []
    },
    "kernelspec": {
      "name": "python3",
      "display_name": "Python 3"
    },
    "language_info": {
      "name": "python"
    }
  },
  "cells": [
    {
      "cell_type": "code",
      "execution_count": null,
      "metadata": {
        "id": "ORJGOvCZ_bD7"
      },
      "outputs": [],
      "source": [
        "import numpy as np\n",
        "import matplotlib.pyplot as plt\n",
        "import tensorflow as tf\n",
        "from tensorflow import keras\n",
        "import tensorflow.keras.layers as layer\n",
        "from tensorflow.keras.preprocessing.text import Tokenizer\n",
        "from tensorflow.keras.preprocessing.sequence import pad_sequences\n"
      ]
    },
    {
      "cell_type": "code",
      "source": [
        "from google.colab import drive\n",
        "drive.mount('/content/drive')"
      ],
      "metadata": {
        "colab": {
          "base_uri": "https://localhost:8080/"
        },
        "id": "M85klOm4LqLK",
        "outputId": "809d5558-5156-4b42-b751-cecfaf3d4fb4"
      },
      "execution_count": null,
      "outputs": [
        {
          "output_type": "stream",
          "name": "stdout",
          "text": [
            "Mounted at /content/drive\n"
          ]
        }
      ]
    },
    {
      "cell_type": "code",
      "source": [
        "#This step invoves me loading the text file from the storage location on the drive\n",
        "with open('/content/drive/MyDrive/gabriel_peoms_prediction/Gabriel_poems.txt') as file:\n",
        "  data = file.readlines()\n",
        "  corpus = ' '.join(data).lower().split('\\n')            #Join Data into string,lower words and split along new lines"
      ],
      "metadata": {
        "id": "e1xAf3OuJIz3"
      },
      "execution_count": null,
      "outputs": []
    },
    {
      "cell_type": "code",
      "source": [
        "print(len(corpus))                                     #Check Length of Data\n",
        "corpus[0:20]  "
      ],
      "metadata": {
        "colab": {
          "base_uri": "https://localhost:8080/"
        },
        "id": "4nkGO_bnjEKM",
        "outputId": "8cd8bc72-6fcd-4469-c24a-0c2b12b8cf51"
      },
      "execution_count": null,
      "outputs": [
        {
          "output_type": "stream",
          "name": "stdout",
          "text": [
            "366\n"
          ]
        },
        {
          "output_type": "execute_result",
          "data": {
            "text/plain": [
              "['the call of the river nun',\n",
              " ' piano’s and drums',\n",
              " ' were i to choose',\n",
              " ' spirit of the wind',\n",
              " ' new year’s eve midnight',\n",
              " ' you laughed i laughed',\n",
              " ' the mystic drum',\n",
              " ' one night at victorias’s beach',\n",
              " ' adhiambo ',\n",
              " ' to paveba',\n",
              " ' franvenkirche',\n",
              " ' the gambler',\n",
              " ' initroit ',\n",
              " ' i hear your call! ',\n",
              " ' i hear it far away; ',\n",
              " ' i hear it break the circle of these crouching hills.',\n",
              " ' i want to view your face again and feel your cold embrace; ',\n",
              " ' or at your brim to set myself and inhale your breath; ',\n",
              " ' or like the trees, ',\n",
              " ' to watch my mirrored self unfold and span my days with song from the lips of dawn.']"
            ]
          },
          "metadata": {},
          "execution_count": 7
        }
      ]
    },
    {
      "cell_type": "code",
      "source": [
        "#The tokeninzation step is a step for data preprocessing in natural language processing\n",
        "tokenizer = Tokenizer(num_words=500,oov_token=\"<OOV>\")\n",
        "\n",
        "tokenizer.fit_on_texts(corpus)\n",
        "\n",
        "# Get the indices and print it\n",
        "total_words = len(tokenizer.word_index) + 1\n",
        "print(total_words)"
      ],
      "metadata": {
        "colab": {
          "base_uri": "https://localhost:8080/"
        },
        "id": "ZdtqRWLrL8gA",
        "outputId": "545738e2-b294-4559-dbc6-2d9c85299528"
      },
      "execution_count": null,
      "outputs": [
        {
          "output_type": "stream",
          "name": "stdout",
          "text": [
            "744\n"
          ]
        }
      ]
    },
    {
      "cell_type": "markdown",
      "source": [
        "### We are going to generate an N-gram sequence for each of the lines in the corpus and store it in a list"
      ],
      "metadata": {
        "id": "o0tt4sQoiB-7"
      }
    },
    {
      "cell_type": "code",
      "source": [
        "#A corpus is simply a body of text\n",
        "\n",
        "input_sequences = []\n",
        "for line in corpus:\n",
        "    token_list = tokenizer.texts_to_sequences([line])[0]\n",
        "    for i in range(1,len(token_list)):\n",
        "        n_gram_sequence = token_list[:i+1]\n",
        "        input_sequences.append(n_gram_sequence)\n",
        "\n",
        "     \n"
      ],
      "metadata": {
        "id": "UXffhSHeMEOG"
      },
      "execution_count": null,
      "outputs": []
    },
    {
      "cell_type": "markdown",
      "source": [
        "## 'pre' padd the sequences with '0' to make them an equal lenght array "
      ],
      "metadata": {
        "id": "3r6bm_dxhS1o"
      }
    },
    {
      "cell_type": "code",
      "source": [
        "max_sequence_len = max([len(x) for x in input_sequences])\n",
        "input_sequences = np.array(pad_sequences(input_sequences, maxlen=max_sequence_len,padding='pre'))\n",
        "input_sequences\n",
        "     "
      ],
      "metadata": {
        "colab": {
          "base_uri": "https://localhost:8080/"
        },
        "id": "hfGu1Ze6ha7z",
        "outputId": "87cddcc0-b9b7-4aac-df07-9711c101b3b1"
      },
      "execution_count": null,
      "outputs": [
        {
          "output_type": "execute_result",
          "data": {
            "text/plain": [
              "array([[  0,   0,   0, ...,   0,   2,  30],\n",
              "       [  0,   0,   0, ...,   2,  30,   5],\n",
              "       [  0,   0,   0, ...,  30,   5,   2],\n",
              "       ...,\n",
              "       [  0,   0,   0, ...,  31, 140, 169],\n",
              "       [  0,   0,   0, ...,   0,  31, 283],\n",
              "       [  0,   0,   0, ...,  31, 283, 169]], dtype=int32)"
            ]
          },
          "metadata": {},
          "execution_count": 10
        }
      ]
    },
    {
      "cell_type": "markdown",
      "source": [
        "\n",
        "### We are going to treat the word prediction as classification task where the next word in a sequence is treated as a label of the previous words. So each word is a label class."
      ],
      "metadata": {
        "id": "GmFa-BRAhxwh"
      }
    },
    {
      "cell_type": "code",
      "source": [
        "train_data = input_sequences[:,:-1]\n",
        "labels = input_sequences[:,-1]\n",
        "labels = tf.keras.utils.to_categorical(labels, num_classes = total_words)"
      ],
      "metadata": {
        "id": "5VC19m5kh6jE"
      },
      "execution_count": null,
      "outputs": []
    },
    {
      "cell_type": "markdown",
      "source": [
        "## Model Trainning"
      ],
      "metadata": {
        "id": "juCd3tYTisl9"
      }
    },
    {
      "cell_type": "code",
      "source": [
        "class myCallbacks(keras.callbacks.Callback):\n",
        "  def on_epoch_end(self,epoch,logs={}):\n",
        "    if logs.get('accuracy') is not None and logs.get('accuracy') > 0.95:\n",
        "      print(\"\\nReached 99% accuracy so cancelling training!\") \n",
        "\n",
        "\n",
        "      self.model.stop_training = True\n",
        "\n",
        "\n",
        "# Instantiate the callback class\n",
        "callbacks = myCallbacks()\n",
        "\n",
        "early_stopping = tf.keras.callbacks.EarlyStopping(monitor='loss', patience=3)\n",
        "\n",
        "\n",
        "def create_model():\n",
        "\n",
        "  model = tf.keras.models.Sequential([\n",
        "      layer.Embedding(total_words, 64, input_length=max_sequence_len - 1),\n",
        "      layer.Bidirectional((layer.LSTM(200))),\n",
        "      layer.Dense(total_words, activation='softmax')\n",
        "  ])\n",
        "\n",
        "\n",
        "  adam = tf.keras.optimizers.Adam(lr=0.01)\n",
        "  model.compile(loss='categorical_crossentropy', optimizer='adam', metrics=['accuracy'])\n",
        "\n",
        "  return model\n",
        "\n",
        "\n",
        "\n"
      ],
      "metadata": {
        "id": "E-Ay0IBvi655"
      },
      "execution_count": null,
      "outputs": []
    },
    {
      "cell_type": "code",
      "source": [
        "# Get the untrained model\n",
        "model = create_model()\n",
        "\n",
        "model.summary()"
      ],
      "metadata": {
        "colab": {
          "base_uri": "https://localhost:8080/"
        },
        "id": "5-s5EiwUE86E",
        "outputId": "9d4f88d9-6ff9-481d-f7fd-e3ef9731f3f7"
      },
      "execution_count": null,
      "outputs": [
        {
          "output_type": "stream",
          "name": "stdout",
          "text": [
            "Model: \"sequential_1\"\n",
            "_________________________________________________________________\n",
            " Layer (type)                Output Shape              Param #   \n",
            "=================================================================\n",
            " embedding_1 (Embedding)     (None, 24, 64)            47616     \n",
            "                                                                 \n",
            " bidirectional_1 (Bidirectio  (None, 400)              424000    \n",
            " nal)                                                            \n",
            "                                                                 \n",
            " dense_1 (Dense)             (None, 744)               298344    \n",
            "                                                                 \n",
            "=================================================================\n",
            "Total params: 769,960\n",
            "Trainable params: 769,960\n",
            "Non-trainable params: 0\n",
            "_________________________________________________________________\n"
          ]
        }
      ]
    },
    {
      "cell_type": "code",
      "source": [
        "history = model.fit(train_data,labels,epochs=300,verbose=1,callbacks=[early_stopping])"
      ],
      "metadata": {
        "colab": {
          "base_uri": "https://localhost:8080/"
        },
        "id": "zEUD-ePVFJWA",
        "outputId": "9d808a52-0b04-4eec-c3e2-34b3d6f4cf50"
      },
      "execution_count": null,
      "outputs": [
        {
          "output_type": "stream",
          "name": "stdout",
          "text": [
            "Epoch 1/300\n",
            "56/56 [==============================] - 11s 117ms/step - loss: 5.6875 - accuracy: 0.1236\n",
            "Epoch 2/300\n",
            "56/56 [==============================] - 7s 131ms/step - loss: 5.1362 - accuracy: 0.1157\n",
            "Epoch 3/300\n",
            "56/56 [==============================] - 7s 125ms/step - loss: 5.0712 - accuracy: 0.1258\n",
            "Epoch 4/300\n",
            "56/56 [==============================] - 7s 125ms/step - loss: 4.9995 - accuracy: 0.1230\n",
            "Epoch 5/300\n",
            "56/56 [==============================] - 7s 125ms/step - loss: 4.9049 - accuracy: 0.1219\n",
            "Epoch 6/300\n",
            "56/56 [==============================] - 7s 124ms/step - loss: 4.8208 - accuracy: 0.1349\n",
            "Epoch 7/300\n",
            "56/56 [==============================] - 7s 118ms/step - loss: 4.7240 - accuracy: 0.1405\n",
            "Epoch 8/300\n",
            "56/56 [==============================] - 6s 112ms/step - loss: 4.6072 - accuracy: 0.1608\n",
            "Epoch 9/300\n",
            "56/56 [==============================] - 7s 122ms/step - loss: 4.4786 - accuracy: 0.1704\n",
            "Epoch 10/300\n",
            "56/56 [==============================] - 7s 123ms/step - loss: 4.5307 - accuracy: 0.1659\n",
            "Epoch 11/300\n",
            "56/56 [==============================] - 7s 119ms/step - loss: 4.3027 - accuracy: 0.1812\n",
            "Epoch 12/300\n",
            "56/56 [==============================] - 7s 122ms/step - loss: 4.1230 - accuracy: 0.1936\n",
            "Epoch 13/300\n",
            "56/56 [==============================] - 7s 119ms/step - loss: 3.9668 - accuracy: 0.2094\n",
            "Epoch 14/300\n",
            "56/56 [==============================] - 7s 118ms/step - loss: 3.8970 - accuracy: 0.2156\n",
            "Epoch 15/300\n",
            "56/56 [==============================] - 7s 119ms/step - loss: 3.8206 - accuracy: 0.2240\n",
            "Epoch 16/300\n",
            "56/56 [==============================] - 7s 123ms/step - loss: 3.6876 - accuracy: 0.2348\n",
            "Epoch 17/300\n",
            "56/56 [==============================] - 7s 120ms/step - loss: 3.5189 - accuracy: 0.2460\n",
            "Epoch 18/300\n",
            "56/56 [==============================] - 7s 118ms/step - loss: 3.3740 - accuracy: 0.2743\n",
            "Epoch 19/300\n",
            "56/56 [==============================] - 7s 120ms/step - loss: 3.2344 - accuracy: 0.2771\n",
            "Epoch 20/300\n",
            "56/56 [==============================] - 10s 189ms/step - loss: 3.0828 - accuracy: 0.2997\n",
            "Epoch 21/300\n",
            "56/56 [==============================] - 7s 123ms/step - loss: 2.9445 - accuracy: 0.3194\n",
            "Epoch 22/300\n",
            "56/56 [==============================] - 7s 123ms/step - loss: 2.8177 - accuracy: 0.3420\n",
            "Epoch 23/300\n",
            "56/56 [==============================] - 7s 121ms/step - loss: 2.6693 - accuracy: 0.3589\n",
            "Epoch 24/300\n",
            "56/56 [==============================] - 6s 115ms/step - loss: 2.5458 - accuracy: 0.3956\n",
            "Epoch 25/300\n",
            "56/56 [==============================] - 6s 114ms/step - loss: 2.4282 - accuracy: 0.4204\n",
            "Epoch 26/300\n",
            "56/56 [==============================] - 7s 124ms/step - loss: 2.3190 - accuracy: 0.4351\n",
            "Epoch 27/300\n",
            "56/56 [==============================] - 7s 116ms/step - loss: 2.1955 - accuracy: 0.4690\n",
            "Epoch 28/300\n",
            "56/56 [==============================] - 7s 123ms/step - loss: 2.1012 - accuracy: 0.4786\n",
            "Epoch 29/300\n",
            "56/56 [==============================] - 7s 121ms/step - loss: 2.0134 - accuracy: 0.5124\n",
            "Epoch 30/300\n",
            "56/56 [==============================] - 7s 119ms/step - loss: 1.9085 - accuracy: 0.5356\n",
            "Epoch 31/300\n",
            "56/56 [==============================] - 7s 121ms/step - loss: 1.8196 - accuracy: 0.5463\n",
            "Epoch 32/300\n",
            "56/56 [==============================] - 7s 118ms/step - loss: 1.7174 - accuracy: 0.5672\n",
            "Epoch 33/300\n",
            "56/56 [==============================] - 7s 122ms/step - loss: 1.6347 - accuracy: 0.5971\n",
            "Epoch 34/300\n",
            "56/56 [==============================] - 7s 122ms/step - loss: 1.5784 - accuracy: 0.5993\n",
            "Epoch 35/300\n",
            "56/56 [==============================] - 7s 117ms/step - loss: 1.5107 - accuracy: 0.6354\n",
            "Epoch 36/300\n",
            "56/56 [==============================] - 6s 115ms/step - loss: 1.4391 - accuracy: 0.6495\n",
            "Epoch 37/300\n",
            "56/56 [==============================] - 6s 112ms/step - loss: 1.3756 - accuracy: 0.6563\n",
            "Epoch 38/300\n",
            "56/56 [==============================] - 6s 115ms/step - loss: 1.3157 - accuracy: 0.6772\n",
            "Epoch 39/300\n",
            "56/56 [==============================] - 7s 121ms/step - loss: 1.2523 - accuracy: 0.7049\n",
            "Epoch 40/300\n",
            "56/56 [==============================] - 7s 122ms/step - loss: 1.1967 - accuracy: 0.7207\n",
            "Epoch 41/300\n",
            "56/56 [==============================] - 7s 124ms/step - loss: 1.1617 - accuracy: 0.7291\n",
            "Epoch 42/300\n",
            "56/56 [==============================] - 7s 120ms/step - loss: 1.1252 - accuracy: 0.7438\n",
            "Epoch 43/300\n",
            "56/56 [==============================] - 6s 112ms/step - loss: 1.0859 - accuracy: 0.7421\n",
            "Epoch 44/300\n",
            "56/56 [==============================] - 7s 120ms/step - loss: 1.0533 - accuracy: 0.7489\n",
            "Epoch 45/300\n",
            "56/56 [==============================] - 7s 121ms/step - loss: 1.0019 - accuracy: 0.7647\n",
            "Epoch 46/300\n",
            "56/56 [==============================] - 7s 124ms/step - loss: 0.9513 - accuracy: 0.7788\n",
            "Epoch 47/300\n",
            "56/56 [==============================] - 7s 119ms/step - loss: 0.9155 - accuracy: 0.7884\n",
            "Epoch 48/300\n",
            "56/56 [==============================] - 7s 123ms/step - loss: 0.8844 - accuracy: 0.7912\n",
            "Epoch 49/300\n",
            "56/56 [==============================] - 7s 121ms/step - loss: 0.8531 - accuracy: 0.7895\n",
            "Epoch 50/300\n",
            "56/56 [==============================] - 7s 116ms/step - loss: 0.8203 - accuracy: 0.8070\n",
            "Epoch 51/300\n",
            "56/56 [==============================] - 10s 186ms/step - loss: 0.8003 - accuracy: 0.8002\n",
            "Epoch 52/300\n",
            "56/56 [==============================] - 6s 111ms/step - loss: 0.7743 - accuracy: 0.8059\n",
            "Epoch 53/300\n",
            "56/56 [==============================] - 7s 117ms/step - loss: 0.7606 - accuracy: 0.8138\n",
            "Epoch 54/300\n",
            "56/56 [==============================] - 7s 116ms/step - loss: 0.7488 - accuracy: 0.8217\n",
            "Epoch 55/300\n",
            "56/56 [==============================] - 7s 122ms/step - loss: 0.7340 - accuracy: 0.8138\n",
            "Epoch 56/300\n",
            "56/56 [==============================] - 7s 116ms/step - loss: 0.7127 - accuracy: 0.8183\n",
            "Epoch 57/300\n",
            "56/56 [==============================] - 7s 121ms/step - loss: 0.6975 - accuracy: 0.8217\n",
            "Epoch 58/300\n",
            "56/56 [==============================] - 6s 116ms/step - loss: 0.6907 - accuracy: 0.8200\n",
            "Epoch 59/300\n",
            "56/56 [==============================] - 6s 116ms/step - loss: 0.6777 - accuracy: 0.8262\n",
            "Epoch 60/300\n",
            "56/56 [==============================] - 6s 112ms/step - loss: 0.6679 - accuracy: 0.8160\n",
            "Epoch 61/300\n",
            "56/56 [==============================] - 7s 119ms/step - loss: 0.6494 - accuracy: 0.8301\n",
            "Epoch 62/300\n",
            "56/56 [==============================] - 7s 122ms/step - loss: 0.6344 - accuracy: 0.8284\n",
            "Epoch 63/300\n",
            "56/56 [==============================] - 7s 120ms/step - loss: 0.6240 - accuracy: 0.8290\n",
            "Epoch 64/300\n",
            "56/56 [==============================] - 7s 121ms/step - loss: 0.6179 - accuracy: 0.8234\n",
            "Epoch 65/300\n",
            "56/56 [==============================] - 7s 119ms/step - loss: 0.6143 - accuracy: 0.8245\n",
            "Epoch 66/300\n",
            "56/56 [==============================] - 6s 113ms/step - loss: 0.6277 - accuracy: 0.8284\n",
            "Epoch 67/300\n",
            "56/56 [==============================] - 6s 116ms/step - loss: 0.6462 - accuracy: 0.8205\n",
            "Epoch 68/300\n",
            "56/56 [==============================] - 7s 119ms/step - loss: 0.6126 - accuracy: 0.8262\n",
            "Epoch 69/300\n",
            "56/56 [==============================] - 6s 114ms/step - loss: 0.5958 - accuracy: 0.8324\n",
            "Epoch 70/300\n",
            "56/56 [==============================] - 7s 119ms/step - loss: 0.5764 - accuracy: 0.8284\n",
            "Epoch 71/300\n",
            "56/56 [==============================] - 6s 114ms/step - loss: 0.5723 - accuracy: 0.8324\n",
            "Epoch 72/300\n",
            "56/56 [==============================] - 6s 114ms/step - loss: 0.5635 - accuracy: 0.8284\n",
            "Epoch 73/300\n",
            "56/56 [==============================] - 6s 115ms/step - loss: 0.5569 - accuracy: 0.8301\n",
            "Epoch 74/300\n",
            "56/56 [==============================] - 7s 121ms/step - loss: 0.5483 - accuracy: 0.8324\n",
            "Epoch 75/300\n",
            "56/56 [==============================] - 6s 111ms/step - loss: 0.5490 - accuracy: 0.8262\n",
            "Epoch 76/300\n",
            "56/56 [==============================] - 7s 117ms/step - loss: 0.5484 - accuracy: 0.8262\n",
            "Epoch 77/300\n",
            "56/56 [==============================] - 7s 120ms/step - loss: 0.5508 - accuracy: 0.8251\n"
          ]
        }
      ]
    },
    {
      "cell_type": "code",
      "source": [
        "# Plot the chart for accuracy and loss on training \n",
        "acc = history.history['accuracy']\n",
        "loss = history.history['loss']\n",
        "\n",
        "\n",
        "epochs = range(len(acc))\n",
        "\n",
        "plt.plot(epochs, acc, 'r', label='Training accuracy')\n",
        "plt.title('Training  accuracy')\n",
        "plt.legend()\n",
        "plt.figure()\n",
        "\n",
        "plt.plot(epochs, loss, 'r', label='Training Loss')\n",
        "plt.title('Training loss')\n",
        "# plt.legend()\n",
        "\n",
        "plt.show()"
      ],
      "metadata": {
        "colab": {
          "base_uri": "https://localhost:8080/",
          "height": 545
        },
        "id": "7pp4ag4E4FCw",
        "outputId": "c6658045-1407-44e8-b8cf-eec35c32a265"
      },
      "execution_count": null,
      "outputs": [
        {
          "output_type": "display_data",
          "data": {
            "text/plain": [
              "<Figure size 432x288 with 1 Axes>"
            ],
            "image/png": "[encoded data removed]"
          },
          "metadata": {
            "needs_background": "light"
          }
        },
        {
          "output_type": "display_data",
          "data": {
            "text/plain": [
              "<Figure size 432x288 with 1 Axes>"
            ],
            "image/png": "[encoded data removed]"
          },
          "metadata": {
            "needs_background": "light"
          }
        }
      ]
    },
    {
      "cell_type": "markdown",
      "source": [
        "## Text Prediction. A seed text to start the predicted lyrics is preprocessed exactly as the training data is"
      ],
      "metadata": {
        "id": "IMLLI9lSJVKh"
      }
    },
    {
      "cell_type": "code",
      "source": [
        "\n",
        "\n",
        "def generate_poem(seed_text,next_words):\n",
        "    \"\"\" A function that takes a \n",
        "    seed_text: to prompt next word prediction\n",
        "    next_word: The number of next words to predict\n",
        "    and returns the predicted yoruba hymn lyrics\"\"\"\n",
        "    for _ in range(next_words):\n",
        "        token_list = tokenizer.texts_to_sequences([seed_text])[0]\n",
        "        token_list = pad_sequences([token_list], maxlen=max_sequence_len - 1, padding='pre')\n",
        "        predicted = np.argmax(model.predict(token_list,verbose=0), axis=-1)\n",
        "        output_word = \" \"\n",
        "        for word, index in tokenizer.word_index.items():\n",
        "            if index == predicted:\n",
        "                output_word = word\n",
        "                break\n",
        "        seed_text += \" \" + output_word\n",
        "    return seed_text\n",
        "    \n",
        "\n",
        "     \n"
      ],
      "metadata": {
        "id": "GJMg1g8fJOnq"
      },
      "execution_count": null,
      "outputs": []
    },
    {
      "cell_type": "code",
      "source": [
        "generate_poem('When at break ',4)\n",
        "     "
      ],
      "metadata": {
        "colab": {
          "base_uri": "https://localhost:8080/",
          "height": 35
        },
        "id": "2W0wGL2cPuFv",
        "outputId": "2ab0fdb3-252c-4b3f-85ca-54359b45cfd8"
      },
      "execution_count": null,
      "outputs": [
        {
          "output_type": "execute_result",
          "data": {
            "text/plain": [
              "'When at break  of day at a'"
            ],
            "application/vnd.google.colaboratory.intrinsic+json": {
              "type": "string"
            }
          },
          "metadata": {},
          "execution_count": 26
        }
      ]
    },
    {
      "cell_type": "code",
      "source": [
        "seed_text_list = ['I hear','the mystic' ,'like bleeding' , 'primal youth' , 'I see', 'the leopard', 'and the','paths','topples', 'in my','O God']\n",
        "for word in seed_text_list:\n",
        "    print(generate_poem(word,5))"
      ],
      "metadata": {
        "colab": {
          "base_uri": "https://localhost:8080/"
        },
        "id": "KVXP4hiYRibK",
        "outputId": "5bba2b63-2dd0-47f3-c25f-46a17bff70ce"
      },
      "execution_count": null,
      "outputs": [
        {
          "output_type": "stream",
          "name": "stdout",
          "text": [
            "I hear your call of the drum\n",
            "the mystic drum in my inside <OOV>\n",
            "like bleeding flesh speaking of a riverside\n",
            "primal youth and the beginning sky the\n",
            "I see the panther ready to pounce\n",
            "the leopard snarling about to leap long\n",
            "and the trees <OOV> to dance and\n",
            "paths with no innovations at a\n",
            "topples the years and at once\n",
            "in my inside stopped to beat inside\n",
            "O God of the gods and me\n"
          ]
        }
      ]
    }
  ]
}